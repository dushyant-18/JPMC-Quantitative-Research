{
  "nbformat": 4,
  "nbformat_minor": 0,
  "metadata": {
    "colab": {
      "provenance": []
    },
    "kernelspec": {
      "name": "python3",
      "display_name": "Python 3"
    },
    "language_info": {
      "name": "python"
    }
  },
  "cells": [
    {
      "cell_type": "markdown",
      "source": [
        "Task 1: Investigate and analyze price data"
      ],
      "metadata": {
        "id": "Bd_kcrqBm03U"
      }
    },
    {
      "cell_type": "code",
      "execution_count": 1,
      "metadata": {
        "colab": {
          "base_uri": "https://localhost:8080/",
          "height": 74
        },
        "id": "K9_AAR5jmzZj",
        "outputId": "4b165d5e-148d-442c-8213-cd0e1691e34d"
      },
      "outputs": [
        {
          "output_type": "display_data",
          "data": {
            "text/plain": [
              "<IPython.core.display.HTML object>"
            ],
            "text/html": [
              "\n",
              "     <input type=\"file\" id=\"files-49040511-53a5-43d8-8009-783b10179aef\" name=\"files[]\" multiple disabled\n",
              "        style=\"border:none\" />\n",
              "     <output id=\"result-49040511-53a5-43d8-8009-783b10179aef\">\n",
              "      Upload widget is only available when the cell has been executed in the\n",
              "      current browser session. Please rerun this cell to enable.\n",
              "      </output>\n",
              "      <script>// Copyright 2017 Google LLC\n",
              "//\n",
              "// Licensed under the Apache License, Version 2.0 (the \"License\");\n",
              "// you may not use this file except in compliance with the License.\n",
              "// You may obtain a copy of the License at\n",
              "//\n",
              "//      http://www.apache.org/licenses/LICENSE-2.0\n",
              "//\n",
              "// Unless required by applicable law or agreed to in writing, software\n",
              "// distributed under the License is distributed on an \"AS IS\" BASIS,\n",
              "// WITHOUT WARRANTIES OR CONDITIONS OF ANY KIND, either express or implied.\n",
              "// See the License for the specific language governing permissions and\n",
              "// limitations under the License.\n",
              "\n",
              "/**\n",
              " * @fileoverview Helpers for google.colab Python module.\n",
              " */\n",
              "(function(scope) {\n",
              "function span(text, styleAttributes = {}) {\n",
              "  const element = document.createElement('span');\n",
              "  element.textContent = text;\n",
              "  for (const key of Object.keys(styleAttributes)) {\n",
              "    element.style[key] = styleAttributes[key];\n",
              "  }\n",
              "  return element;\n",
              "}\n",
              "\n",
              "// Max number of bytes which will be uploaded at a time.\n",
              "const MAX_PAYLOAD_SIZE = 100 * 1024;\n",
              "\n",
              "function _uploadFiles(inputId, outputId) {\n",
              "  const steps = uploadFilesStep(inputId, outputId);\n",
              "  const outputElement = document.getElementById(outputId);\n",
              "  // Cache steps on the outputElement to make it available for the next call\n",
              "  // to uploadFilesContinue from Python.\n",
              "  outputElement.steps = steps;\n",
              "\n",
              "  return _uploadFilesContinue(outputId);\n",
              "}\n",
              "\n",
              "// This is roughly an async generator (not supported in the browser yet),\n",
              "// where there are multiple asynchronous steps and the Python side is going\n",
              "// to poll for completion of each step.\n",
              "// This uses a Promise to block the python side on completion of each step,\n",
              "// then passes the result of the previous step as the input to the next step.\n",
              "function _uploadFilesContinue(outputId) {\n",
              "  const outputElement = document.getElementById(outputId);\n",
              "  const steps = outputElement.steps;\n",
              "\n",
              "  const next = steps.next(outputElement.lastPromiseValue);\n",
              "  return Promise.resolve(next.value.promise).then((value) => {\n",
              "    // Cache the last promise value to make it available to the next\n",
              "    // step of the generator.\n",
              "    outputElement.lastPromiseValue = value;\n",
              "    return next.value.response;\n",
              "  });\n",
              "}\n",
              "\n",
              "/**\n",
              " * Generator function which is called between each async step of the upload\n",
              " * process.\n",
              " * @param {string} inputId Element ID of the input file picker element.\n",
              " * @param {string} outputId Element ID of the output display.\n",
              " * @return {!Iterable<!Object>} Iterable of next steps.\n",
              " */\n",
              "function* uploadFilesStep(inputId, outputId) {\n",
              "  const inputElement = document.getElementById(inputId);\n",
              "  inputElement.disabled = false;\n",
              "\n",
              "  const outputElement = document.getElementById(outputId);\n",
              "  outputElement.innerHTML = '';\n",
              "\n",
              "  const pickedPromise = new Promise((resolve) => {\n",
              "    inputElement.addEventListener('change', (e) => {\n",
              "      resolve(e.target.files);\n",
              "    });\n",
              "  });\n",
              "\n",
              "  const cancel = document.createElement('button');\n",
              "  inputElement.parentElement.appendChild(cancel);\n",
              "  cancel.textContent = 'Cancel upload';\n",
              "  const cancelPromise = new Promise((resolve) => {\n",
              "    cancel.onclick = () => {\n",
              "      resolve(null);\n",
              "    };\n",
              "  });\n",
              "\n",
              "  // Wait for the user to pick the files.\n",
              "  const files = yield {\n",
              "    promise: Promise.race([pickedPromise, cancelPromise]),\n",
              "    response: {\n",
              "      action: 'starting',\n",
              "    }\n",
              "  };\n",
              "\n",
              "  cancel.remove();\n",
              "\n",
              "  // Disable the input element since further picks are not allowed.\n",
              "  inputElement.disabled = true;\n",
              "\n",
              "  if (!files) {\n",
              "    return {\n",
              "      response: {\n",
              "        action: 'complete',\n",
              "      }\n",
              "    };\n",
              "  }\n",
              "\n",
              "  for (const file of files) {\n",
              "    const li = document.createElement('li');\n",
              "    li.append(span(file.name, {fontWeight: 'bold'}));\n",
              "    li.append(span(\n",
              "        `(${file.type || 'n/a'}) - ${file.size} bytes, ` +\n",
              "        `last modified: ${\n",
              "            file.lastModifiedDate ? file.lastModifiedDate.toLocaleDateString() :\n",
              "                                    'n/a'} - `));\n",
              "    const percent = span('0% done');\n",
              "    li.appendChild(percent);\n",
              "\n",
              "    outputElement.appendChild(li);\n",
              "\n",
              "    const fileDataPromise = new Promise((resolve) => {\n",
              "      const reader = new FileReader();\n",
              "      reader.onload = (e) => {\n",
              "        resolve(e.target.result);\n",
              "      };\n",
              "      reader.readAsArrayBuffer(file);\n",
              "    });\n",
              "    // Wait for the data to be ready.\n",
              "    let fileData = yield {\n",
              "      promise: fileDataPromise,\n",
              "      response: {\n",
              "        action: 'continue',\n",
              "      }\n",
              "    };\n",
              "\n",
              "    // Use a chunked sending to avoid message size limits. See b/62115660.\n",
              "    let position = 0;\n",
              "    do {\n",
              "      const length = Math.min(fileData.byteLength - position, MAX_PAYLOAD_SIZE);\n",
              "      const chunk = new Uint8Array(fileData, position, length);\n",
              "      position += length;\n",
              "\n",
              "      const base64 = btoa(String.fromCharCode.apply(null, chunk));\n",
              "      yield {\n",
              "        response: {\n",
              "          action: 'append',\n",
              "          file: file.name,\n",
              "          data: base64,\n",
              "        },\n",
              "      };\n",
              "\n",
              "      let percentDone = fileData.byteLength === 0 ?\n",
              "          100 :\n",
              "          Math.round((position / fileData.byteLength) * 100);\n",
              "      percent.textContent = `${percentDone}% done`;\n",
              "\n",
              "    } while (position < fileData.byteLength);\n",
              "  }\n",
              "\n",
              "  // All done.\n",
              "  yield {\n",
              "    response: {\n",
              "      action: 'complete',\n",
              "    }\n",
              "  };\n",
              "}\n",
              "\n",
              "scope.google = scope.google || {};\n",
              "scope.google.colab = scope.google.colab || {};\n",
              "scope.google.colab._files = {\n",
              "  _uploadFiles,\n",
              "  _uploadFilesContinue,\n",
              "};\n",
              "})(self);\n",
              "</script> "
            ]
          },
          "metadata": {}
        },
        {
          "output_type": "stream",
          "name": "stdout",
          "text": [
            "Saving Nat_Gas.csv to Nat_Gas.csv\n"
          ]
        }
      ],
      "source": [
        "from google.colab import files\n",
        "uploaded = files.upload()"
      ]
    },
    {
      "cell_type": "code",
      "source": [
        "import numpy as np\n",
        "import pandas as pd\n",
        "import matplotlib.pyplot as plt\n",
        "from sklearn.linear_model import LinearRegression\n",
        "from datetime import datetime, timedelta"
      ],
      "metadata": {
        "id": "c6aAqmRnobKI"
      },
      "execution_count": 36,
      "outputs": []
    },
    {
      "cell_type": "code",
      "source": [
        "# Load the dataset\n",
        "natgas_df = pd.read_csv('Nat_Gas.csv')\n",
        "\n",
        "# Convert the 'Dates' column to datetime format\n",
        "natgas_df['Dates'] = pd.to_datetime(natgas_df['Dates'])\n",
        "\n",
        "# Extract 'Year' and 'Month' from 'Dates'\n",
        "natgas_df['Year'] = natgas_df['Dates'].dt.year\n",
        "natgas_df['Month'] = natgas_df['Dates'].dt.month"
      ],
      "metadata": {
        "colab": {
          "base_uri": "https://localhost:8080/"
        },
        "id": "2zUHNNUsomTB",
        "outputId": "4cd5c3d0-e4c3-48d7-8324-2a364a678643"
      },
      "execution_count": 37,
      "outputs": [
        {
          "output_type": "stream",
          "name": "stderr",
          "text": [
            "<ipython-input-37-f7490ac758ff>:5: UserWarning: Could not infer format, so each element will be parsed individually, falling back to `dateutil`. To ensure parsing is consistent and as-expected, please specify a format.\n",
            "  natgas_df['Dates'] = pd.to_datetime(natgas_df['Dates'])\n"
          ]
        }
      ]
    },
    {
      "cell_type": "code",
      "source": [
        "# Function to predict prices for the year following the last available data\n",
        "def next_year_price(start_year, start_month):\n",
        "    \"\"\"Returns a predicted natural gas price for each month starting from the month after the last available data.\"\"\"\n",
        "    price_list = []\n",
        "    current_year = start_year\n",
        "    current_month = start_month\n",
        "    for _ in range(12):  # Predict for 12 months\n",
        "        X = np.array(natgas_df[natgas_df['Month'] == current_month]['Year']).reshape(-1, 1)\n",
        "        y = np.array(natgas_df[natgas_df['Month'] == current_month]['Prices'])\n",
        "        reg = LinearRegression().fit(X, y)\n",
        "        price = reg.predict([[current_year]])\n",
        "        price_list.append(round(float(price), 2))\n",
        "\n",
        "        # Move to the next month\n",
        "        current_month += 1\n",
        "        if current_month > 12:\n",
        "            current_month = 1\n",
        "            current_year += 1\n",
        "\n",
        "    return price_list"
      ],
      "metadata": {
        "id": "UOfjXI3QqVJW"
      },
      "execution_count": 38,
      "outputs": []
    },
    {
      "cell_type": "code",
      "source": [
        "# Get the last date from the available data\n",
        "last_date = natgas_df['Dates'].max()\n",
        "last_year = last_date.year\n",
        "last_month = last_date.month\n",
        "\n",
        "# Predict prices starting from the month after the last available data\n",
        "start_year = last_year if last_month < 12 else last_year + 1\n",
        "start_month = last_month + 1 if last_month < 12 else 1\n",
        "predicted_prices = next_year_price(start_year, start_month)\n",
        "\n",
        "# Generate dates for the predicted prices\n",
        "dates_predicted = pd.date_range(start=pd.to_datetime(f'{start_year}-{start_month}-01'), periods=12, freq='M')\n",
        "\n",
        "# Create a new DataFrame for the predicted prices\n",
        "projected_gas_prices_df = pd.DataFrame({\n",
        "    'Dates': dates_predicted,\n",
        "    'Prices': predicted_prices\n",
        "})\n",
        "projected_gas_prices_df['Year'] = projected_gas_prices_df['Dates'].dt.year\n",
        "projected_gas_prices_df['Month'] = projected_gas_prices_df['Dates'].dt.month"
      ],
      "metadata": {
        "colab": {
          "base_uri": "https://localhost:8080/"
        },
        "collapsed": true,
        "id": "xbLsGY3zqXJM",
        "outputId": "08d4d268-de58-4ef0-d79d-fb96f4be9aff"
      },
      "execution_count": 39,
      "outputs": [
        {
          "output_type": "stream",
          "name": "stderr",
          "text": [
            "<ipython-input-38-1766a2910c33>:12: DeprecationWarning: Conversion of an array with ndim > 0 to a scalar is deprecated, and will error in future. Ensure you extract a single element from your array before performing this operation. (Deprecated NumPy 1.25.)\n",
            "  price_list.append(round(float(price), 2))\n",
            "<ipython-input-38-1766a2910c33>:12: DeprecationWarning: Conversion of an array with ndim > 0 to a scalar is deprecated, and will error in future. Ensure you extract a single element from your array before performing this operation. (Deprecated NumPy 1.25.)\n",
            "  price_list.append(round(float(price), 2))\n",
            "<ipython-input-38-1766a2910c33>:12: DeprecationWarning: Conversion of an array with ndim > 0 to a scalar is deprecated, and will error in future. Ensure you extract a single element from your array before performing this operation. (Deprecated NumPy 1.25.)\n",
            "  price_list.append(round(float(price), 2))\n",
            "<ipython-input-38-1766a2910c33>:12: DeprecationWarning: Conversion of an array with ndim > 0 to a scalar is deprecated, and will error in future. Ensure you extract a single element from your array before performing this operation. (Deprecated NumPy 1.25.)\n",
            "  price_list.append(round(float(price), 2))\n",
            "<ipython-input-38-1766a2910c33>:12: DeprecationWarning: Conversion of an array with ndim > 0 to a scalar is deprecated, and will error in future. Ensure you extract a single element from your array before performing this operation. (Deprecated NumPy 1.25.)\n",
            "  price_list.append(round(float(price), 2))\n",
            "<ipython-input-38-1766a2910c33>:12: DeprecationWarning: Conversion of an array with ndim > 0 to a scalar is deprecated, and will error in future. Ensure you extract a single element from your array before performing this operation. (Deprecated NumPy 1.25.)\n",
            "  price_list.append(round(float(price), 2))\n",
            "<ipython-input-38-1766a2910c33>:12: DeprecationWarning: Conversion of an array with ndim > 0 to a scalar is deprecated, and will error in future. Ensure you extract a single element from your array before performing this operation. (Deprecated NumPy 1.25.)\n",
            "  price_list.append(round(float(price), 2))\n",
            "<ipython-input-38-1766a2910c33>:12: DeprecationWarning: Conversion of an array with ndim > 0 to a scalar is deprecated, and will error in future. Ensure you extract a single element from your array before performing this operation. (Deprecated NumPy 1.25.)\n",
            "  price_list.append(round(float(price), 2))\n",
            "<ipython-input-38-1766a2910c33>:12: DeprecationWarning: Conversion of an array with ndim > 0 to a scalar is deprecated, and will error in future. Ensure you extract a single element from your array before performing this operation. (Deprecated NumPy 1.25.)\n",
            "  price_list.append(round(float(price), 2))\n",
            "<ipython-input-38-1766a2910c33>:12: DeprecationWarning: Conversion of an array with ndim > 0 to a scalar is deprecated, and will error in future. Ensure you extract a single element from your array before performing this operation. (Deprecated NumPy 1.25.)\n",
            "  price_list.append(round(float(price), 2))\n",
            "<ipython-input-38-1766a2910c33>:12: DeprecationWarning: Conversion of an array with ndim > 0 to a scalar is deprecated, and will error in future. Ensure you extract a single element from your array before performing this operation. (Deprecated NumPy 1.25.)\n",
            "  price_list.append(round(float(price), 2))\n",
            "<ipython-input-38-1766a2910c33>:12: DeprecationWarning: Conversion of an array with ndim > 0 to a scalar is deprecated, and will error in future. Ensure you extract a single element from your array before performing this operation. (Deprecated NumPy 1.25.)\n",
            "  price_list.append(round(float(price), 2))\n"
          ]
        }
      ]
    },
    {
      "cell_type": "code",
      "source": [
        "# Function to estimate the price for a specific date (day, month, year)\n",
        "def estimate_price_specific_date(day, month, year):\n",
        "    # Ensure the date is valid\n",
        "    try:\n",
        "        date = datetime(year, month, day)\n",
        "    except ValueError:\n",
        "        raise ValueError(\"Invalid date provided.\")\n",
        "\n",
        "    # Prepare the data for prediction using only month and year\n",
        "    X = np.array(natgas_df[natgas_df['Month'] == month]['Year']).reshape(-1, 1)\n",
        "    y = np.array(natgas_df[natgas_df['Month'] == month]['Prices'])\n",
        "    reg = LinearRegression().fit(X, y)\n",
        "\n",
        "    # Predict the price for the given year\n",
        "    predicted_price = reg.predict([[year]])\n",
        "    return round(float(predicted_price), 2)"
      ],
      "metadata": {
        "id": "alcAcSD-qkvB"
      },
      "execution_count": 46,
      "outputs": []
    },
    {
      "cell_type": "code",
      "source": [
        "# Final analysis and plot\n",
        "plt.plot(projected_gas_prices_df['Dates'], projected_gas_prices_df['Prices'], label='Predicted Prices', linestyle='--', marker='x')\n",
        "plt.plot(natgas_df['Dates'], natgas_df['Prices'], label='Actual Prices 2021-24', marker='o')\n",
        "plt.ylabel('Gas Price ($)')\n",
        "plt.xlabel('Year')\n",
        "plt.title('Gas Price Forecast', fontweight='bold')\n",
        "plt.legend()\n",
        "plt.grid(True)\n",
        "plt.show()\n"
      ],
      "metadata": {
        "colab": {
          "base_uri": "https://localhost:8080/",
          "height": 472
        },
        "id": "lb4nZR07tWsK",
        "outputId": "f3b8d2d5-8d6e-4b6f-a869-9633648bf6db"
      },
      "execution_count": 47,
      "outputs": [
        {
          "output_type": "display_data",
          "data": {
            "text/plain": [
              "<Figure size 640x480 with 1 Axes>"
            ],
            "image/png": "[encoded data removed]"
          },
          "metadata": {}
        }
      ]
    },
    {
      "cell_type": "code",
      "source": [
        "# Example of estimating the price for a given date\n",
        "estimated_price = estimate_price_specific_date(25,9,2025)\n",
        "print(f\"Estimated Price on 2025-09-30: {estimated_price:.2f}\")"
      ],
      "metadata": {
        "colab": {
          "base_uri": "https://localhost:8080/"
        },
        "id": "KnyxsZRz5N5Y",
        "outputId": "ce992c8b-d588-47c9-9edf-d2699628608a"
      },
      "execution_count": 48,
      "outputs": [
        {
          "output_type": "stream",
          "name": "stdout",
          "text": [
            "Estimated Price on 2025-09-30: 12.45\n"
          ]
        },
        {
          "output_type": "stream",
          "name": "stderr",
          "text": [
            "<ipython-input-46-3fc600895833>:22: DeprecationWarning: Conversion of an array with ndim > 0 to a scalar is deprecated, and will error in future. Ensure you extract a single element from your array before performing this operation. (Deprecated NumPy 1.25.)\n",
            "  return round(float(predicted_price), 2)\n"
          ]
        }
      ]
    }
  ]
}