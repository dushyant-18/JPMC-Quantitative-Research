{
  "nbformat": 4,
  "nbformat_minor": 0,
  "metadata": {
    "colab": {
      "provenance": []
    },
    "kernelspec": {
      "name": "python3",
      "display_name": "Python 3"
    },
    "language_info": {
      "name": "python"
    }
  },
  "cells": [
    {
      "cell_type": "markdown",
      "source": [
        "Task 2: Price a commodity storage contract"
      ],
      "metadata": {
        "id": "NWISf_b88Zol"
      }
    },
    {
      "cell_type": "code",
      "execution_count": 8,
      "metadata": {
        "colab": {
          "base_uri": "https://localhost:8080/"
        },
        "id": "aBVYUa4X8W7X",
        "outputId": "9c64d30e-ba50-4e40-c9c8-41727d38cc77"
      },
      "outputs": [
        {
          "output_type": "stream",
          "name": "stdout",
          "text": [
            "Injected gas on 2020-12-31 at a price of $11 per unit.\n",
            "Injected gas on 2021-02-28 at a price of $10.9 per unit.\n",
            "Extracted gas on 2021-12-31 at a price of $11.4 per unit.\n",
            "Extracted gas on 2022-02-28 at a price of $11.8 per unit.\n",
            "Injected gas on 2022-04-30 at a price of $10.7 per unit.\n",
            "Extracted gas on 2022-09-30 at a price of $10.8 per unit.\n",
            "Injected gas on 2023-01-31 at a price of $12.1 per unit.\n",
            "Extracted gas on 2023-10-31 at a price of $11.8 per unit.\n",
            "\n",
            "The value of the contract is: $39600.0\n"
          ]
        }
      ],
      "source": [
        "from datetime import date, timedelta\n",
        "import math\n",
        "\n",
        "def price_contract(in_dates, in_prices, out_dates, out_prices, rate, storage_cost_rate, max_storage_volume, injection_withdrawal_cost_rate):\n",
        "    volume = 0\n",
        "    buy_cost = 0\n",
        "    cash_in = 0\n",
        "\n",
        "    # Ensure dates are in sequence\n",
        "    all_dates = sorted(set(in_dates + out_dates))\n",
        "\n",
        "    # Loop through all dates\n",
        "    for i in range(len(all_dates)):\n",
        "        current_date = all_dates[i]\n",
        "\n",
        "        if current_date in in_dates:\n",
        "            # Inject gas on these dates and sum up cash flows\n",
        "            if volume + rate <= max_storage_volume:\n",
        "                volume += rate\n",
        "                buy_cost += rate * in_prices[in_dates.index(current_date)]\n",
        "                injection_cost = rate * injection_withdrawal_cost_rate\n",
        "                buy_cost += injection_cost\n",
        "                print(f\"Injected gas on {current_date} at a price of ${in_prices[in_dates.index(current_date)]} per unit.\")\n",
        "            else:\n",
        "                print(f\"Injection not possible on {current_date}: Insufficient storage space.\")\n",
        "\n",
        "        elif current_date in out_dates:\n",
        "            # Withdraw gas on these dates and sum up cash flows\n",
        "            if volume >= rate:\n",
        "                volume -= rate\n",
        "                cash_in += rate * out_prices[out_dates.index(current_date)]\n",
        "                withdrawal_cost = rate * injection_withdrawal_cost_rate\n",
        "                cash_in -= withdrawal_cost\n",
        "                print(f\"Extracted gas on {current_date} at a price of ${out_prices[out_dates.index(current_date)]} per unit.\")\n",
        "            else:\n",
        "                print(f\"Extraction not possible on {current_date}: Insufficient gas volume stored.\")\n",
        "\n",
        "    # Calculate storage cost based on the duration between the first injection and last withdrawal date\n",
        "    duration_days = (max(out_dates) - min(in_dates)).days\n",
        "    storage_cost = math.ceil(duration_days / 30) * storage_cost_rate\n",
        "\n",
        "    # Final contract value\n",
        "    contract_value = cash_in - buy_cost - storage_cost\n",
        "    return round(contract_value, 2)\n",
        "\n",
        "# Example usage of price_contract()\n",
        "in_dates = [date(2021, 2, 28), date(2020, 12, 31), date(2022, 4, 30), date(2023, 1, 31)]  # Injection dates\n",
        "in_prices = [10.9, 11, 10.7, 12.1]  # Prices on the injection days\n",
        "out_dates = [date(2022, 2, 28), date(2021, 12, 31), date(2022, 9, 30), date(2023, 10, 31)]  # Withdrawal dates\n",
        "out_prices = [11.8, 11.4, 10.8, 11.8]  # Prices on the withdrawal days\n",
        "rate = 100000  # Rate of gas in cubic feet per day\n",
        "storage_cost_rate = 2000  # Storage cost per month\n",
        "injection_withdrawal_cost_rate = 0.0005  # $/cf\n",
        "max_storage_volume = 500000  # Maximum storage capacity of the storage facility\n",
        "\n",
        "# Calculate the contract value\n",
        "result = price_contract(in_dates, in_prices, out_dates, out_prices, rate, storage_cost_rate, max_storage_volume, injection_withdrawal_cost_rate)\n",
        "print()\n",
        "print(f\"The value of the contract is: ${result}\")\n"
      ]
    }
  ]
}